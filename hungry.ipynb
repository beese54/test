{
 "cells": [
  {
   "cell_type": "code",
   "execution_count": 1,
   "id": "6c785606-0cc0-4556-8e58-6af58b4cd17b",
   "metadata": {},
   "outputs": [
    {
     "name": "stdout",
     "output_type": "stream",
     "text": [
      "Im hungry\n"
     ]
    }
   ],
   "source": [
    "print(\"Im hungry\")"
   ]
  },
  {
   "cell_type": "code",
   "execution_count": null,
   "id": "c8352345-7d7b-417f-ba4d-74f602508f44",
   "metadata": {},
   "outputs": [],
   "source": []
  }
 ],
 "metadata": {
  "kernelspec": {
   "display_name": "Python 3",
   "language": "python",
   "name": "python3"
  },
  "language_info": {
   "codemirror_mode": {
    "name": "ipython",
    "version": 3
   },
   "file_extension": ".py",
   "mimetype": "text/x-python",
   "name": "python",
   "nbconvert_exporter": "python",
   "pygments_lexer": "ipython3",
   "version": "3.12.4"
  }
 },
 "nbformat": 4,
 "nbformat_minor": 5
}
